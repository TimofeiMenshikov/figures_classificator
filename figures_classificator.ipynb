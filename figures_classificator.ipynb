{
  "nbformat": 4,
  "nbformat_minor": 0,
  "metadata": {
    "colab": {
      "provenance": [],
      "authorship_tag": "ABX9TyOfLRVxBWeQRSvvK1yQjL1W",
      "include_colab_link": true
    },
    "kernelspec": {
      "name": "python3",
      "display_name": "Python 3"
    },
    "language_info": {
      "name": "python"
    }
  },
  "cells": [
    {
      "cell_type": "markdown",
      "metadata": {
        "id": "view-in-github",
        "colab_type": "text"
      },
      "source": [
        "<a href=\"https://colab.research.google.com/github/TimofeiMenshikov/figures_classificator/blob/main/figures_classificator.ipynb\" target=\"_parent\"><img src=\"https://colab.research.google.com/assets/colab-badge.svg\" alt=\"Open In Colab\"/></a>"
      ]
    },
    {
      "cell_type": "markdown",
      "source": [
        "Импортирование библиотек для генерации датесета, удаления датасета"
      ],
      "metadata": {
        "id": "BQH2O1fTS7du"
      }
    },
    {
      "cell_type": "code",
      "source": [
        "import random\n",
        "import csv\n",
        "from PIL import Image, ImageDraw\n",
        "import os\n",
        "import shutil"
      ],
      "metadata": {
        "id": "TBTipJZ01fuy"
      },
      "execution_count": 125,
      "outputs": []
    },
    {
      "cell_type": "markdown",
      "source": [
        "Удаление датасета"
      ],
      "metadata": {
        "id": "woBaqLefTsm-"
      }
    },
    {
      "cell_type": "code",
      "source": [
        "folders_to_remove = [\n",
        "    'dataset/circle',\n",
        "    'dataset/triangle',\n",
        "    'dataset/rectangle'\n",
        "]\n",
        "\n",
        "for folder_path in folders_to_remove:\n",
        "    try:\n",
        "        if os.path.exists(folder_path):\n",
        "            shutil.rmtree(folder_path)\n",
        "            print(f\"Папка {folder_path} успешно удалена\")\n",
        "        else:\n",
        "            print(f\"Папка {folder_path} не существует\")\n",
        "    except Exception as e:\n",
        "        print(f\"Ошибка при удалении {folder_path}: {str(e)}\")"
      ],
      "metadata": {
        "colab": {
          "base_uri": "https://localhost:8080/"
        },
        "id": "yXu1_kRQIb01",
        "outputId": "1e66a513-b256-477b-bda9-b92b4e4e5007"
      },
      "execution_count": 126,
      "outputs": [
        {
          "output_type": "stream",
          "name": "stdout",
          "text": [
            "Папка dataset/circle успешно удалена\n",
            "Папка dataset/triangle успешно удалена\n",
            "Папка dataset/rectangle успешно удалена\n"
          ]
        }
      ]
    },
    {
      "cell_type": "markdown",
      "source": [
        "Создание датасета"
      ],
      "metadata": {
        "id": "_gMpCOPgT5EQ"
      }
    },
    {
      "cell_type": "code",
      "execution_count": 127,
      "metadata": {
        "colab": {
          "base_uri": "https://localhost:8080/"
        },
        "id": "US2FxZq-1DCI",
        "outputId": "2a976935-7552-4f66-913c-f0a390c08d71"
      },
      "outputs": [
        {
          "output_type": "stream",
          "name": "stdout",
          "text": [
            "{'circle': 66, 'rectangle': 59, 'triangle': 75}\n"
          ]
        }
      ],
      "source": [
        "dataset_size = 200\n",
        "\n",
        "os.makedirs(\"dataset\", exist_ok=True)\n",
        "os.makedirs(\"dataset/rectangle\", exist_ok=True)\n",
        "os.makedirs(\"dataset/circle\", exist_ok=True)\n",
        "os.makedirs(\"dataset/triangle\", exist_ok=True)\n",
        "\n",
        "\n",
        "def generate_random_shape(width=128, height=128):\n",
        "    image = Image.new(\"RGB\", (width, height), \"white\")\n",
        "    draw = ImageDraw.Draw(image)\n",
        "\n",
        "    # Случайные параметры\n",
        "    shape = random.choice([\"circle\", \"rectangle\", \"triangle\"])\n",
        "    color = (random.randint(0, 255), random.randint(0, 255), random.randint(0, 255))\n",
        "    size = random.randint(70, 100)\n",
        "    x0 = random.randint(10, width - size - 10)\n",
        "    y0 = random.randint(10, height - size - 10)\n",
        "\n",
        "    #is_filled = random.randint(0, 1) (есть возможность генерировать также незакрашенные фигуры, но пока нейросеть не может справиться с таким датасетом)\n",
        "    is_filled = 1\n",
        "\n",
        "\n",
        "    if (is_filled): fill = color\n",
        "    else:           fill = \"white\"\n",
        "\n",
        "\n",
        "\n",
        "    # Рисование\n",
        "    if shape == \"circle\":\n",
        "        draw.ellipse((x0, y0, x0 + size, y0 + size), fill = fill, outline = color)\n",
        "    elif shape == \"rectangle\":\n",
        "        draw.rectangle((x0, y0, x0 + size, y0 + size), fill= fill, outline = color)\n",
        "    elif shape == \"triangle\":\n",
        "        points = [\n",
        "            (x0 + size//2, y0),\n",
        "            (x0, y0 + size),\n",
        "            (x0 + size, y0 + size)\n",
        "        ]\n",
        "        draw.polygon(points, fill = fill, outline = color)\n",
        "\n",
        "    return image, shape\n",
        "\n",
        "img = generate_random_shape()\n",
        "how_many_figures = {\"circle\" : 0, \"rectangle\" : 0, \"triangle\" : 0}\n",
        "\n",
        "for i in range(dataset_size):\n",
        "    img, shape = generate_random_shape()\n",
        "\n",
        "    how_many_figures[shape] += 1\n",
        "\n",
        "    filename = f\"shape_{i}.png\"\n",
        "    img.save(f\"dataset/{shape}/{filename}\")\n",
        "\n",
        "img.save(\"random_shape.png\")\n",
        "print(how_many_figures)"
      ]
    },
    {
      "cell_type": "markdown",
      "source": [
        "Импорт библиотек для нейронной сети"
      ],
      "metadata": {
        "id": "jLP_ZunIXXhI"
      }
    },
    {
      "cell_type": "code",
      "source": [
        "from torchvision import datasets, transforms\n",
        "import torch\n",
        "import os\n",
        "import numpy as np\n",
        "from PIL import Image, ImageDraw\n",
        "import torch\n",
        "import torch.nn as nn\n",
        "import torch.optim as optim\n",
        "from torch.utils.data import Dataset, DataLoader\n",
        "from torchvision import transforms\n",
        "from sklearn.model_selection import train_test_split\n",
        "import matplotlib.pyplot as plt\n",
        "from torch.utils.data import random_split\n"
      ],
      "metadata": {
        "id": "W_NKHuF21n-i"
      },
      "execution_count": 128,
      "outputs": []
    },
    {
      "cell_type": "markdown",
      "source": [
        "Преобразование датасета для нейросети"
      ],
      "metadata": {
        "id": "LxLdiOEhX20v"
      }
    },
    {
      "cell_type": "code",
      "source": [
        "transform = transforms.Compose([\n",
        "    transforms.Resize((64, 64)),\n",
        "    transforms.ToTensor(),\n",
        "    transforms.Normalize(\n",
        "        mean=[0.485, 0.456, 0.406],\n",
        "        std=[0.229, 0.224, 0.225]\n",
        "    )\n",
        "\n",
        "])\n",
        "\n",
        "\n",
        "dataset = datasets.ImageFolder(\n",
        "    root='dataset',  # Путь к корневой папке с классами\n",
        "    transform=transform\n",
        ")\n",
        "\n",
        "\n",
        "n_train = int(len(dataset) * 0.64)\n",
        "n_valid = int(len(dataset) * 0.16)\n",
        "n_test  = len(dataset) - n_train - n_valid\n",
        "\n",
        "train_dataset, valid_dataset, test_dataset = random_split(\n",
        "    dataset,\n",
        "    [n_train, n_valid, n_test],\n",
        "    generator=torch.Generator().manual_seed(42)  # Для воспроизводимости\n",
        ")\n",
        "\n",
        "train_dataloader = DataLoader(\n",
        "    train_dataset,\n",
        "    batch_size=10,\n",
        "    shuffle = True\n",
        ")\n",
        "\n",
        "valid_dataloader = DataLoader(\n",
        "    valid_dataset,\n",
        "    batch_size = 10,\n",
        "    shuffle = True\n",
        ")\n",
        "\n",
        "test_dataloader = DataLoader(\n",
        "    test_dataset,\n",
        "    batch_size = 10,\n",
        "    shuffle = True\n",
        ")"
      ],
      "metadata": {
        "id": "cXHn2uDK1sBB"
      },
      "execution_count": 129,
      "outputs": []
    },
    {
      "cell_type": "markdown",
      "source": [
        "Архитектура нейронной сети (Линейный классификатор)"
      ],
      "metadata": {
        "id": "Uj_2CPUbW9Kq"
      }
    },
    {
      "cell_type": "code",
      "source": [
        "class LinearImageClassifier(nn.Module):\n",
        "    def __init__(self, input_size=64*64*3, num_classes=10):\n",
        "        super().__init__()\n",
        "        self.flatten = nn.Flatten()\n",
        "        self.layers = nn.Sequential(\n",
        "\n",
        "            nn.Linear(input_size, 512),  # 64*64*3 = 12288 входных нейронов → 512\n",
        "            nn.ReLU(),\n",
        "            nn.Dropout(0.2),\n",
        "            nn.Linear(512, 256),\n",
        "            nn.ReLU(),\n",
        "            nn.Dropout(0.2),\n",
        "            nn.Linear(256, num_classes)\n",
        "        )\n",
        "\n",
        "    def forward(self, x):\n",
        "        x = self.flatten(x)  # Преобразует [batch, 3, 64, 64] → [batch, 3*64*64]\n",
        "        x = self.layers(x)\n",
        "        return x"
      ],
      "metadata": {
        "id": "ZFP4Ye1yYFHi"
      },
      "execution_count": 144,
      "outputs": []
    },
    {
      "cell_type": "markdown",
      "source": [
        "Объявление модели (запустить для сброса весов)"
      ],
      "metadata": {
        "id": "vkXV5IhQYHZ4"
      }
    },
    {
      "cell_type": "code",
      "source": [
        "#Параметры модели\n",
        "input_size = (3, 64, 64)  # [каналы, высота, ширина]\n",
        "num_classes = 3           # круг, квадрат, треугольник\n",
        "\n",
        "model = LinearImageClassifier(input_size=3*64*64, num_classes=num_classes)\n",
        "\n",
        "device = torch.device(\"cuda\" if torch.cuda.is_available() else \"cpu\")\n",
        "model = model.to(device)\n",
        "print(f\"Используется устройство: {device}\")\n",
        "\n",
        "loss_fn = nn.CrossEntropyLoss()  # Для классификации\n",
        "optimizer = optim.Adam(model.parameters(), lr=0.0001)  # Или SGD"
      ],
      "metadata": {
        "colab": {
          "base_uri": "https://localhost:8080/"
        },
        "id": "SP1K3pZd-qKH",
        "outputId": "10c4425e-3653-4e3e-a09f-c4007f572d0a"
      },
      "execution_count": 145,
      "outputs": [
        {
          "output_type": "stream",
          "name": "stdout",
          "text": [
            "Используется устройство: cpu\n"
          ]
        }
      ]
    },
    {
      "cell_type": "markdown",
      "source": [
        "Функция для получения accuracy для конкретной выборки"
      ],
      "metadata": {
        "id": "eaxWJO0fYeBA"
      }
    },
    {
      "cell_type": "code",
      "source": [
        "def get_accuracy(dataloader, model):\n",
        "\n",
        "    correct = 0\n",
        "    total = 0\n",
        "\n",
        "    with torch.no_grad():\n",
        "        for inputs, labels in dataloader:\n",
        "\n",
        "            inputs, labels = inputs.to(device), labels.to(device)\n",
        "            outputs = model(inputs)\n",
        "\n",
        "            _, predicted = torch.max(outputs.data, 1)\n",
        "\n",
        "            for i in range(len(predicted)):\n",
        "                correct += (predicted[i] == labels[i])\n",
        "                total   += 1\n",
        "\n",
        "    return float(100 * correct / total)"
      ],
      "metadata": {
        "id": "lbcJQp9PCAMH"
      },
      "execution_count": 146,
      "outputs": []
    },
    {
      "cell_type": "markdown",
      "source": [
        "Списки для построения графиков ниже"
      ],
      "metadata": {
        "id": "d8OhIOrKVpWN"
      }
    },
    {
      "cell_type": "code",
      "source": [
        "train_losses = []\n",
        "valid_losses = []\n",
        "\n",
        "train_accs = []\n",
        "valid_accs = []"
      ],
      "metadata": {
        "id": "AyIrkotvKes7"
      },
      "execution_count": 147,
      "outputs": []
    },
    {
      "cell_type": "markdown",
      "source": [
        "Обучение, валидация и сохранение модели"
      ],
      "metadata": {
        "id": "wDBCvtsJV0GL"
      }
    },
    {
      "cell_type": "code",
      "source": [
        "num_epochs = 10\n",
        "\n",
        "for epoch in range(num_epochs):\n",
        "\n",
        "    # Обучение\n",
        "    model.train()\n",
        "\n",
        "    train_loss = 0.0\n",
        "\n",
        "    for batch in train_dataloader:\n",
        "        inputs, labels = batch\n",
        "        inputs, labels = inputs.to(device), labels.to(device)\n",
        "\n",
        "        optimizer.zero_grad()\n",
        "        outputs = model(inputs)\n",
        "        loss = loss_fn(outputs, labels)\n",
        "        train_loss += loss.item()\n",
        "\n",
        "        loss.backward()\n",
        "        optimizer.step()\n",
        "\n",
        "    train_acc = get_accuracy(train_dataloader, model)\n",
        "    print(f\"Train Loss: {train_loss/len(train_dataloader):.4f}\", \"Train accuracy: \", train_acc)\n",
        "    train_losses.append(train_loss/len(train_dataloader))\n",
        "    train_accs.append(train_acc)\n",
        "\n",
        "\n",
        "    # Валидация\n",
        "    model.eval()\n",
        "    with torch.no_grad():\n",
        "        val_loss = 0.0\n",
        "        for val_batch in valid_dataloader:\n",
        "            inputs, labels = val_batch\n",
        "            inputs, labels = inputs.to(device), labels.to(device)\n",
        "            outputs = model(inputs)\n",
        "            val_loss += loss_fn(outputs, labels).item()\n",
        "\n",
        "        valid_acc = get_accuracy(valid_dataloader, model)\n",
        "\n",
        "        print(f\"Val Loss: {val_loss/len(valid_dataloader):.4f}\", \"Valid accuracy: \", valid_acc)\n",
        "        valid_losses.append(val_loss/len(valid_dataloader))\n",
        "        valid_accs.append(valid_acc)\n",
        "\n",
        "    print(\"Test accuracy: \", get_accuracy(test_dataloader, model))\n",
        "\n",
        "# Сохранение\n",
        "torch.save(model.state_dict(), \"model.pth\")"
      ],
      "metadata": {
        "colab": {
          "base_uri": "https://localhost:8080/"
        },
        "id": "dXCKVVDmENcl",
        "outputId": "f5477c33-7f38-4c74-c5eb-ef7468f94e39"
      },
      "execution_count": 148,
      "outputs": [
        {
          "output_type": "stream",
          "name": "stdout",
          "text": [
            "Train Loss: 0.9019 Train accuracy:  75.0\n",
            "Val Loss: 0.5811 Valid accuracy:  75.0\n",
            "Test accuracy:  77.5\n",
            "Train Loss: 0.6181 Train accuracy:  78.90625\n",
            "Val Loss: 0.4006 Valid accuracy:  78.125\n",
            "Test accuracy:  87.5\n",
            "Train Loss: 0.6172 Train accuracy:  81.25\n",
            "Val Loss: 0.6712 Valid accuracy:  75.0\n",
            "Test accuracy:  82.5\n",
            "Train Loss: 0.5428 Train accuracy:  82.8125\n",
            "Val Loss: 0.4122 Valid accuracy:  78.125\n",
            "Test accuracy:  80.0\n",
            "Train Loss: 0.4435 Train accuracy:  84.375\n",
            "Val Loss: 0.3320 Valid accuracy:  84.375\n",
            "Test accuracy:  85.0\n",
            "Train Loss: 0.3698 Train accuracy:  85.15625\n",
            "Val Loss: 0.2277 Valid accuracy:  90.625\n",
            "Test accuracy:  90.0\n",
            "Train Loss: 0.3392 Train accuracy:  92.1875\n",
            "Val Loss: 0.2675 Valid accuracy:  93.75\n",
            "Test accuracy:  87.5\n",
            "Train Loss: 0.3108 Train accuracy:  94.53125\n",
            "Val Loss: 0.1932 Valid accuracy:  96.875\n",
            "Test accuracy:  92.5\n",
            "Train Loss: 0.2635 Train accuracy:  88.28125\n",
            "Val Loss: 0.4645 Valid accuracy:  84.375\n",
            "Test accuracy:  77.5\n",
            "Train Loss: 0.2450 Train accuracy:  93.75\n",
            "Val Loss: 0.2090 Valid accuracy:  96.875\n",
            "Test accuracy:  95.0\n"
          ]
        }
      ]
    },
    {
      "cell_type": "markdown",
      "source": [
        "CrossEntropyLoss для train и valid среднаяя по эпохе"
      ],
      "metadata": {
        "id": "gSBhuiABVWDI"
      }
    },
    {
      "cell_type": "code",
      "source": [
        "\n",
        "plt.plot(train_losses, label = \"train_losses\")\n",
        "plt.plot(valid_losses, label = \"valid_losses\")\n",
        "\n",
        "plt.legend()\n",
        "plt.show()\n",
        "\n"
      ],
      "metadata": {
        "colab": {
          "base_uri": "https://localhost:8080/",
          "height": 430
        },
        "id": "xgprAGjYDSh2",
        "outputId": "e43e086e-9e93-4d52-800d-427c1f44fb13"
      },
      "execution_count": 149,
      "outputs": [
        {
          "output_type": "display_data",
          "data": {
            "text/plain": [
              "<Figure size 640x480 with 1 Axes>"
            ],
            "image/png": "[encoded data removed]"
          },
          "metadata": {}
        }
      ]
    },
    {
      "cell_type": "markdown",
      "source": [
        "Accuracy для train и valid в %"
      ],
      "metadata": {
        "id": "_dw7Msh0UWLB"
      }
    },
    {
      "cell_type": "code",
      "source": [
        "plt.plot(train_accs, label = \"train_accs\")\n",
        "plt.plot(valid_accs, label = \"valid_accs\")\n",
        "\n",
        "plt.legend()\n",
        "plt.show()\n"
      ],
      "metadata": {
        "colab": {
          "base_uri": "https://localhost:8080/",
          "height": 430
        },
        "id": "j0pfufWjKJCM",
        "outputId": "34064065-e50e-40b7-bfa3-60c398a9511c"
      },
      "execution_count": 150,
      "outputs": [
        {
          "output_type": "display_data",
          "data": {
            "text/plain": [
              "<Figure size 640x480 with 1 Axes>"
            ],
            "image/png": "[encoded data removed]"
          },
          "metadata": {}
        }
      ]
    },
    {
      "cell_type": "code",
      "source": [
        "print(\"test\",  get_accuracy(test_dataloader,  model), \"%\")\n",
        "print(\"train\", get_accuracy(train_dataloader, model), \"%\")\n",
        "print(\"valid\", get_accuracy(valid_dataloader, model), \"%\")"
      ],
      "metadata": {
        "colab": {
          "base_uri": "https://localhost:8080/"
        },
        "id": "LQmzC6jQPkXg",
        "outputId": "ffbe6a63-5104-411b-e08c-c03ea4aca040"
      },
      "execution_count": 151,
      "outputs": [
        {
          "output_type": "stream",
          "name": "stdout",
          "text": [
            "test 95.0 %\n",
            "train 97.65625 %\n",
            "valid 96.875 %\n"
          ]
        }
      ]
    }
  ]
}