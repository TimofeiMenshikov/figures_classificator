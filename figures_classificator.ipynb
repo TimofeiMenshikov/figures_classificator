{
  "nbformat": 4,
  "nbformat_minor": 0,
  "metadata": {
    "colab": {
      "provenance": [],
      "authorship_tag": "ABX9TyM8ZcLSIL52i6431HXEuq2G",
      "include_colab_link": true
    },
    "kernelspec": {
      "name": "python3",
      "display_name": "Python 3"
    },
    "language_info": {
      "name": "python"
    }
  },
  "cells": [
    {
      "cell_type": "markdown",
      "metadata": {
        "id": "view-in-github",
        "colab_type": "text"
      },
      "source": [
        "<a href=\"https://colab.research.google.com/github/TimofeiMenshikov/figures_classificator/blob/main/figures_classificator.ipynb\" target=\"_parent\"><img src=\"https://colab.research.google.com/assets/colab-badge.svg\" alt=\"Open In Colab\"/></a>"
      ]
    },
    {
      "cell_type": "code",
      "source": [
        "import random\n",
        "import csv\n",
        "from PIL import Image, ImageDraw\n",
        "\n"
      ],
      "metadata": {
        "id": "TBTipJZ01fuy"
      },
      "execution_count": 3,
      "outputs": []
    },
    {
      "cell_type": "code",
      "source": [
        "import os\n",
        "import shutil\n",
        "\n",
        "# Список папок для удаления\n",
        "folders_to_remove = [\n",
        "    'dataset/circle',\n",
        "    'dataset/triangle',\n",
        "    'dataset/rectangle'\n",
        "]\n",
        "\n",
        "for folder_path in folders_to_remove:\n",
        "    try:\n",
        "        if os.path.exists(folder_path):\n",
        "            shutil.rmtree(folder_path)\n",
        "            print(f\"Папка {folder_path} успешно удалена\")\n",
        "        else:\n",
        "            print(f\"Папка {folder_path} не существует\")\n",
        "    except Exception as e:\n",
        "        print(f\"Ошибка при удалении {folder_path}: {str(e)}\")"
      ],
      "metadata": {
        "colab": {
          "base_uri": "https://localhost:8080/"
        },
        "id": "yXu1_kRQIb01",
        "outputId": "802d1f37-d90b-413e-dab6-a7690c594204"
      },
      "execution_count": 4,
      "outputs": [
        {
          "output_type": "stream",
          "name": "stdout",
          "text": [
            "Папка dataset/circle не существует\n",
            "Папка dataset/triangle не существует\n",
            "Папка dataset/rectangle не существует\n"
          ]
        }
      ]
    },
    {
      "cell_type": "code",
      "execution_count": null,
      "metadata": {
        "colab": {
          "base_uri": "https://localhost:8080/"
        },
        "id": "US2FxZq-1DCI",
        "outputId": "0e9bc308-1df0-4375-87d5-08eff25d287a"
      },
      "outputs": [
        {
          "output_type": "stream",
          "name": "stdout",
          "text": [
            "{'circle': 34, 'rectangle': 37, 'triangle': 29}\n"
          ]
        }
      ],
      "source": [
        "\n",
        "\n",
        "\n",
        "# Нужно нарисовать закрашенные и незакрашенные фигуры, повернутые на рандомный угол\n",
        "\n",
        "\n",
        "os.makedirs(\"dataset\", exist_ok=True)\n",
        "os.makedirs(\"dataset/rectangle\", exist_ok=True)\n",
        "os.makedirs(\"dataset/circle\", exist_ok=True)\n",
        "os.makedirs(\"dataset/triangle\", exist_ok=True)\n",
        "\n",
        "\n",
        "def generate_random_shape(width=128, height=128):\n",
        "    image = Image.new(\"RGB\", (width, height), \"white\")\n",
        "    draw = ImageDraw.Draw(image)\n",
        "\n",
        "    # Случайные параметры\n",
        "    shape = random.choice([\"circle\", \"rectangle\", \"triangle\"])\n",
        "    color = (random.randint(0, 255), random.randint(0, 255), random.randint(0, 255))\n",
        "    size = random.randint(70, 100)\n",
        "    x0 = random.randint(10, width - size - 10)\n",
        "    y0 = random.randint(10, height - size - 10)\n",
        "\n",
        "    #is_filled = random.randint(0, 1)\n",
        "    is_filled = 1\n",
        "\n",
        "\n",
        "    if (is_filled): fill = color\n",
        "    else:           fill = \"white\"\n",
        "\n",
        "\n",
        "\n",
        "    # Рисование\n",
        "    if shape == \"circle\":\n",
        "        draw.ellipse((x0, y0, x0 + size, y0 + size), fill = fill, outline = color)\n",
        "    elif shape == \"rectangle\":\n",
        "        draw.rectangle((x0, y0, x0 + size, y0 + size), fill= fill, outline = color)\n",
        "    elif shape == \"triangle\":\n",
        "        points = [\n",
        "            (x0 + size//2, y0),\n",
        "            (x0, y0 + size),\n",
        "            (x0 + size, y0 + size)\n",
        "        ]\n",
        "        draw.polygon(points, fill = fill, outline = color)\n",
        "\n",
        "\n",
        "    #image = image.rotate(random.randint(0, 360), expand=True, fillcolor=\"white\")\n",
        "\n",
        "    '''ImageDraw.floodfill(\n",
        "        image=image,\n",
        "        xy=(0, 0),     # Стартовая точка\n",
        "        value=(255, 255, 255),      # Новый цвет\n",
        "        thresh=10        # Порог чувствительности (0-255)\n",
        "    )'''\n",
        "\n",
        "    return image, shape\n",
        "\n",
        "# Пример\n",
        "\n",
        "img = generate_random_shape()\n",
        "\n",
        "how_many_figures = {\"circle\" : 0, \"rectangle\" : 0, \"triangle\" : 0}\n",
        "\n",
        "\n",
        "with open(\"metadata.csv\", \"w\", newline=\"\") as csvfile:\n",
        "    writer = csv.writer(csvfile)\n",
        "    writer.writerow([\"filename\", \"shape\"])\n",
        "\n",
        "    for i in range(100):\n",
        "        img, shape = generate_random_shape()\n",
        "\n",
        "        how_many_figures[shape] += 1\n",
        "\n",
        "        filename = f\"shape_{i}.png\"\n",
        "        img.save(f\"dataset/{shape}/{filename}\")\n",
        "        writer.writerow([filename, shape])\n",
        "\n",
        "\n",
        "img.save(\"random_shape.png\")\n",
        "print(how_many_figures)"
      ]
    },
    {
      "cell_type": "code",
      "source": [
        "from torchvision import datasets, transforms\n",
        "import torch\n",
        "import os\n",
        "import numpy as np\n",
        "from PIL import Image, ImageDraw\n",
        "import torch\n",
        "import torch.nn as nn\n",
        "import torch.optim as optim\n",
        "from torch.utils.data import Dataset, DataLoader\n",
        "from torchvision import transforms\n",
        "from sklearn.model_selection import train_test_split\n",
        "import matplotlib.pyplot as plt\n"
      ],
      "metadata": {
        "id": "W_NKHuF21n-i"
      },
      "execution_count": null,
      "outputs": []
    },
    {
      "cell_type": "code",
      "source": [
        "from torch.utils.data import random_split\n",
        "\n",
        "\n",
        "# Определите трансформации\n",
        "transform = transforms.Compose([\n",
        "    transforms.Resize((64, 64)),  # Изменение размера\n",
        "    transforms.ToTensor(),           # Конвертация в тензор\n",
        "    transforms.Normalize(\n",
        "        mean=[0.485, 0.456, 0.406],     # Средние для ImageNet\n",
        "        std=[0.229, 0.224, 0.225]       # Стандартные отклонения\n",
        "    )\n",
        "\n",
        "])\n",
        "\n",
        "# Создайте Dataset\n",
        "dataset = datasets.ImageFolder(\n",
        "    root='dataset',  # Путь к корневой папке с классами\n",
        "    transform=transform\n",
        ")\n",
        "\n",
        "\n",
        "\n",
        "# Пример просмотра информации о датасете\n",
        "print(f\"Classes: {dataset.classes}\")\n",
        "print(f\"Total samples: {len(dataset)}\")\n",
        "print(f\"Sample tensor shape: {dataset[0][0].shape}\")\n",
        "\n",
        "n_train = int(len(dataset) * 0.64)\n",
        "n_valid = int(len(dataset) * 0.16)\n",
        "n_test  = len(dataset) - n_train - n_valid\n",
        "\n",
        "\n",
        "\n",
        "train_dataset, valid_dataset, test_dataset = random_split(\n",
        "    dataset,\n",
        "    [n_train, n_valid, n_test],\n",
        "    generator=torch.Generator().manual_seed(42)  # Для воспроизводимости\n",
        ")"
      ],
      "metadata": {
        "colab": {
          "base_uri": "https://localhost:8080/"
        },
        "id": "cXHn2uDK1sBB",
        "outputId": "8a54f8d6-1a2a-4b19-a6b7-d37a2836f4d1"
      },
      "execution_count": null,
      "outputs": [
        {
          "output_type": "stream",
          "name": "stdout",
          "text": [
            "Classes: ['circle', 'rectangle', 'triangle']\n",
            "Total samples: 100\n",
            "Sample tensor shape: torch.Size([3, 64, 64])\n"
          ]
        }
      ]
    },
    {
      "cell_type": "code",
      "source": [
        "train_dataloader = DataLoader(\n",
        "    train_dataset,\n",
        "    batch_size=10,  # Обрабатывать по 10 образцов за шаг\n",
        "    shuffle = True\n",
        ")\n",
        "\n",
        "valid_dataloader = DataLoader(\n",
        "    valid_dataset,\n",
        "    batch_size = 10,\n",
        "    shuffle = True\n",
        ")\n",
        "\n",
        "test_dataloader = DataLoader(\n",
        "    test_dataset,\n",
        "    batch_size = 10,\n",
        "    shuffle = True\n",
        ")"
      ],
      "metadata": {
        "id": "gxHD7VGk1NBx"
      },
      "execution_count": null,
      "outputs": []
    },
    {
      "cell_type": "code",
      "source": [
        "import torch.nn as nn"
      ],
      "metadata": {
        "id": "iiPVrFN41bUb"
      },
      "execution_count": null,
      "outputs": []
    },
    {
      "cell_type": "code",
      "source": [
        "# Параметры модели\n",
        "input_size = (3, 64, 64)  # [каналы, высота, ширина]\n",
        "num_classes = 3           # круг, квадрат, треугольник\n",
        "\n",
        "class LinearImageClassifier(nn.Module):\n",
        "    def __init__(self, input_size=64*64*3, num_classes=10):\n",
        "        super().__init__()\n",
        "        self.flatten = nn.Flatten()\n",
        "        self.layers = nn.Sequential(\n",
        "            # Полносвязные слои\n",
        "            nn.Linear(input_size, 512),  # 64*64*3 = 12288 входных нейронов → 512\n",
        "            nn.ReLU(),\n",
        "            nn.Dropout(0.2),\n",
        "            nn.Linear(512, 256),\n",
        "            nn.ReLU(),\n",
        "            nn.Dropout(0.2),\n",
        "            nn.Linear(256, num_classes)\n",
        "        )\n",
        "\n",
        "    def forward(self, x):\n",
        "        x = self.flatten(x)  # Преобразует [batch, 3, 64, 64] → [batch, 3*64*64]\n",
        "        x = self.layers(x)\n",
        "        return x\n",
        "\n",
        "model = LinearImageClassifier(input_size=3*64*64, num_classes=num_classes)\n",
        "\n",
        "device = torch.device(\"cuda\" if torch.cuda.is_available() else \"cpu\")\n",
        "model = model.to(device)  # Пример: model = ShapeClassifier().to(device)\n",
        "print(f\"Используется устройство: {device}\")\n",
        "\n"
      ],
      "metadata": {
        "colab": {
          "base_uri": "https://localhost:8080/"
        },
        "id": "SP1K3pZd-qKH",
        "outputId": "a5f42b19-b3e1-4680-b0c7-97bb1c8211a7"
      },
      "execution_count": null,
      "outputs": [
        {
          "output_type": "stream",
          "name": "stdout",
          "text": [
            "Используется устройство: cpu\n"
          ]
        }
      ]
    },
    {
      "cell_type": "code",
      "source": [
        "import torch.optim as optim\n",
        "\n",
        "loss_fn = nn.CrossEntropyLoss()  # Для классификации\n",
        "optimizer = optim.Adam(model.parameters(), lr=0.0001)  # Или SGD"
      ],
      "metadata": {
        "id": "bcsZ1krSAFGk"
      },
      "execution_count": null,
      "outputs": []
    },
    {
      "cell_type": "code",
      "source": [
        "def test(dataloader):\n",
        "\n",
        "    correct = 0\n",
        "    total = 0\n",
        "\n",
        "\n",
        "\n",
        "    with torch.no_grad():\n",
        "        for inputs, labels in dataloader:\n",
        "\n",
        "\n",
        "            inputs, labels = inputs.to(device), labels.to(device)\n",
        "            outputs = model(inputs)\n",
        "            #print(outputs.data)\n",
        "            _, predicted = torch.max(outputs.data, 1)\n",
        "\n",
        "\n",
        "            #print(\"predicted:\", predicted, \"output:\", labels)\n",
        "\n",
        "            for i in range(len(predicted)):\n",
        "                correct += (predicted[i] == labels[i])\n",
        "                total   += 1\n",
        "\n",
        "    return float(100 * correct / total)"
      ],
      "metadata": {
        "id": "lbcJQp9PCAMH"
      },
      "execution_count": null,
      "outputs": []
    },
    {
      "cell_type": "code",
      "source": [
        "train_losses = []\n",
        "valid_losses = []\n",
        "\n",
        "train_accs = []\n",
        "valid_accs = []"
      ],
      "metadata": {
        "id": "AyIrkotvKes7"
      },
      "execution_count": null,
      "outputs": []
    },
    {
      "cell_type": "code",
      "source": [
        "num_epochs = 10\n",
        "\n",
        "print(len(train_dataloader))\n",
        "\n",
        "print(len(valid_dataloader))\n",
        "\n",
        "\n",
        "\n",
        "for epoch in range(num_epochs):\n",
        "\n",
        "    # Обучение\n",
        "    model.train()\n",
        "\n",
        "    train_loss = 0.0\n",
        "\n",
        "    for batch in train_dataloader:\n",
        "        inputs, labels = batch\n",
        "        inputs, labels = inputs.to(device), labels.to(device)\n",
        "\n",
        "        optimizer.zero_grad()\n",
        "        outputs = model(inputs)\n",
        "        loss = loss_fn(outputs, labels)\n",
        "        train_loss += loss.item()\n",
        "\n",
        "        loss.backward()\n",
        "        optimizer.step()\n",
        "\n",
        "    train_acc = test(train_dataloader)\n",
        "    print(f\"Train Loss: {train_loss/len(train_dataloader):.4f}\", \"Train accuracy: \", train_acc)\n",
        "    train_losses.append(train_loss/len(train_dataloader))\n",
        "    train_accs.append(train_acc)\n",
        "\n",
        "\n",
        "    # Валидация\n",
        "    model.eval()\n",
        "    with torch.no_grad():\n",
        "        val_loss = 0.0\n",
        "        for val_batch in valid_dataloader:\n",
        "            inputs, labels = val_batch\n",
        "            inputs, labels = inputs.to(device), labels.to(device)\n",
        "            outputs = model(inputs)\n",
        "            val_loss += loss_fn(outputs, labels).item()\n",
        "\n",
        "        valid_acc = test(valid_dataloader)\n",
        "\n",
        "        print(f\"Val Loss: {val_loss/len(valid_dataloader):.4f}\", \"Valid accuracy: \", valid_acc)\n",
        "        valid_losses.append(val_loss/len(valid_dataloader))\n",
        "        valid_accs.append(valid_acc)\n",
        "\n",
        "# Сохранение\n",
        "torch.save(model.state_dict(), \"model.pth\")"
      ],
      "metadata": {
        "colab": {
          "base_uri": "https://localhost:8080/"
        },
        "id": "dXCKVVDmENcl",
        "outputId": "7b5518a0-6362-4091-98f7-5c3fa12f8f3a"
      },
      "execution_count": null,
      "outputs": [
        {
          "output_type": "stream",
          "name": "stdout",
          "text": [
            "7\n",
            "2\n",
            "Train Loss: 0.2140 Train accuracy:  90.625\n",
            "Val Loss: 0.2820 Valid accuracy:  87.5\n",
            "Train Loss: 0.2539 Train accuracy:  92.1875\n",
            "Val Loss: 0.4380 Valid accuracy:  75.0\n",
            "Train Loss: 0.2571 Train accuracy:  92.1875\n",
            "Val Loss: 0.3626 Valid accuracy:  87.5\n",
            "Train Loss: 0.1371 Train accuracy:  93.75\n",
            "Val Loss: 0.3651 Valid accuracy:  75.0\n",
            "Train Loss: 0.1976 Train accuracy:  90.625\n",
            "Val Loss: 0.3673 Valid accuracy:  81.25\n",
            "Train Loss: 0.1592 Train accuracy:  98.4375\n",
            "Val Loss: 0.5022 Valid accuracy:  87.5\n",
            "Train Loss: 0.1264 Train accuracy:  96.875\n",
            "Val Loss: 0.5347 Valid accuracy:  75.0\n",
            "Train Loss: 0.1765 Train accuracy:  96.875\n",
            "Val Loss: 0.3104 Valid accuracy:  81.25\n",
            "Train Loss: 0.1906 Train accuracy:  96.875\n",
            "Val Loss: 0.3205 Valid accuracy:  75.0\n",
            "Train Loss: 0.1569 Train accuracy:  95.3125\n",
            "Val Loss: 0.2498 Valid accuracy:  87.5\n"
          ]
        }
      ]
    },
    {
      "cell_type": "code",
      "source": [
        "\n",
        "plt.plot(train_losses, label = \"train_losses\")\n",
        "plt.plot(valid_losses, label = \"valid_losses\")\n",
        "\n",
        "plt.legend()\n",
        "plt.show()\n",
        "\n"
      ],
      "metadata": {
        "colab": {
          "base_uri": "https://localhost:8080/",
          "height": 430
        },
        "id": "xgprAGjYDSh2",
        "outputId": "18ab66dc-be60-4df9-b570-6db3e8885120"
      },
      "execution_count": null,
      "outputs": [
        {
          "output_type": "display_data",
          "data": {
            "text/plain": [
              "<Figure size 640x480 with 1 Axes>"
            ],
            "image/png": "[encoded data removed]"
          },
          "metadata": {}
        }
      ]
    },
    {
      "cell_type": "code",
      "source": [
        "plt.plot(train_accs, label = \"train_accs\")\n",
        "plt.plot(valid_accs, label = \"valid_accs\")\n",
        "\n",
        "plt.legend()\n",
        "plt.show()\n"
      ],
      "metadata": {
        "colab": {
          "base_uri": "https://localhost:8080/",
          "height": 430
        },
        "id": "j0pfufWjKJCM",
        "outputId": "5bb0727e-1a7c-4c3a-835c-7807859e24a4"
      },
      "execution_count": null,
      "outputs": [
        {
          "output_type": "display_data",
          "data": {
            "text/plain": [
              "<Figure size 640x480 with 1 Axes>"
            ],
            "image/png": "[encoded data removed]"
          },
          "metadata": {}
        }
      ]
    },
    {
      "cell_type": "code",
      "source": [
        "print(test(test_dataloader))\n",
        "print(test(train_dataloader))\n",
        "print(test(valid_dataloader))"
      ],
      "metadata": {
        "colab": {
          "base_uri": "https://localhost:8080/"
        },
        "id": "LQmzC6jQPkXg",
        "outputId": "aa214a77-4773-40cd-de4c-966c439cd3a2"
      },
      "execution_count": null,
      "outputs": [
        {
          "output_type": "stream",
          "name": "stdout",
          "text": [
            "90.0\n",
            "100.0\n",
            "87.5\n"
          ]
        }
      ]
    }
  ]
}